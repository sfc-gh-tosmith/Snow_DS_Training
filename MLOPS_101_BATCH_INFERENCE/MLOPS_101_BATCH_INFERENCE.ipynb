{
 "metadata": {
  "kernelspec": {
   "display_name": "Streamlit Notebook",
   "name": "streamlit"
  },
  "lastEditStatus": {
   "notebookId": "ngwz32sqy2kflf4guxge",
   "authorId": "322325853055",
   "authorName": "CROMANO",
   "authorEmail": "chase.romano@snowflake.com",
   "sessionId": "31ff0528-dda3-49d8-a063-54fe2d40f82b",
   "lastEditTime": 1754497338179
  }
 },
 "nbformat_minor": 5,
 "nbformat": 4,
 "cells": [
  {
   "cell_type": "markdown",
   "id": "2b5dd094-07b5-40b9-be25-be16cb8ccd3b",
   "metadata": {
    "name": "Intro",
    "collapsed": false
   },
   "source": "# Snowflake to Model Deployment Demo\n\nIn this demo, you'll walk through a complete machine learning pipeline—from data ingestion to deployment and inference—using containerized infrastructure.\n\n## Demo Overview\n\nThis demo includes the following key steps:\n\n1. **Data Ingestion from Snowflake**  \n   Pull structured Titanic dataset from Snowflake.\n\n2. **Feature Engineering**  \n   Transform raw data into meaningful features for model training.\n\n3. **Model Training with XGBoost**  \n   Use XGBoost to train a classification model on the engineered dataset.\n\n4. **Model Deployment**  \n   Register and deploy the trained model.\n\n5. **Batch Inference**  \n   Call the deployed model to make predictions on new batches of data.\n"
  },
  {
   "cell_type": "code",
   "id": "1346ac9c-b21f-44fd-b6a1-70de9924cae4",
   "metadata": {
    "language": "python",
    "name": "pip_install",
    "collapsed": false,
    "resultHeight": 306,
    "codeCollapsed": false
   },
   "outputs": [],
   "source": "# Not neccessary since these packages come with the runtime (Just an example)\n#!pip install xgboost snowflake-ml-python ",
   "execution_count": null
  },
  {
   "cell_type": "code",
   "id": "3775908f-ca36-4846-8f38-5adca39217f2",
   "metadata": {
    "language": "python",
    "name": "imports",
    "collapsed": false,
    "resultHeight": 0
   },
   "source": "# Import python packages\nimport streamlit as st\nimport pandas as pd\nfrom sklearn.model_selection import train_test_split\nfrom xgboost import XGBClassifier\nfrom sklearn.model_selection import GridSearchCV\nfrom snowflake.ml.registry import Registry\nimport ast\n#add another package\n# We can also use Snowpark for our analyses!\nfrom snowflake.snowpark.context import get_active_session\nsession = get_active_session()\n",
   "execution_count": null,
   "outputs": []
  },
  {
   "cell_type": "code",
   "id": "56066407-bba0-4d10-98f5-2f6dae0145d3",
   "metadata": {
    "language": "python",
    "name": "get_data",
    "collapsed": false,
    "resultHeight": 0
   },
   "outputs": [],
   "source": "titanic = pd.read_csv('data/titanic_snowflake.csv')\ntitanic = titanic.drop([\"AGE\", \n                        \"DECK\", \n                        \"ALIVE\",\n                        \"ADULT_MALE\",\n                        \"EMBARKED\",\n                        \"PCLASS\",\n                        \"ALONE\",\n                        \"SEX\"],axis=1)\ntitanic.head()",
   "execution_count": null
  },
  {
   "cell_type": "markdown",
   "id": "9a53f4ef-a085-439c-ab79-68c4a0deec18",
   "metadata": {
    "name": "Get_Data_From_Snowflake",
    "collapsed": false
   },
   "source": "Usually your data will already be in Snowflake.  This next step shows how to write the pandas dataframe as a table, then how to turn a table from Snowflake into a pandas dataframe"
  },
  {
   "cell_type": "code",
   "id": "4e117fbf-2fc7-444c-a99a-21b6a1aaffac",
   "metadata": {
    "language": "python",
    "name": "write_to_table"
   },
   "outputs": [],
   "source": "# This step turns pandas -> snowpark and writes to snowflake\ntitanic_sf = session.create_dataframe(titanic)\ntitanic_sf.write.mode(\"overwrite\").save_as_table(\"titanic_raw\")",
   "execution_count": null
  },
  {
   "cell_type": "code",
   "id": "0b684830-9d7b-4cce-842d-ebcb061935a3",
   "metadata": {
    "language": "python",
    "name": "Read_table_pandas"
   },
   "outputs": [],
   "source": "# Here we read a table from Snowflake into a Snowpark dataframe\n\ntitanic_raw = session.table('titanic_raw').to_pandas()\ntitanic_raw.head()",
   "execution_count": null
  },
  {
   "cell_type": "code",
   "id": "90c4452f-6edd-4eae-939e-361999c72704",
   "metadata": {
    "language": "sql",
    "name": "df_sql"
   },
   "outputs": [],
   "source": "select * from titanic_raw",
   "execution_count": null
  },
  {
   "cell_type": "code",
   "id": "627ff33f-bc9d-41ab-8fc7-a51bdfa72a90",
   "metadata": {
    "language": "python",
    "name": "cell1"
   },
   "outputs": [],
   "source": "df_sql.to_pandas().head()",
   "execution_count": null
  },
  {
   "cell_type": "code",
   "id": "8a8bb52d-2b0d-45ff-aa1d-a8df0bbb127b",
   "metadata": {
    "language": "python",
    "name": "drop_nulls",
    "collapsed": false,
    "resultHeight": 0
   },
   "outputs": [],
   "source": "titanic.dropna(inplace=True)",
   "execution_count": null
  },
  {
   "cell_type": "code",
   "id": "bb1acb42-85cd-4fc2-a1e6-edcc5704ec45",
   "metadata": {
    "language": "python",
    "name": "get_dummies",
    "collapsed": false,
    "resultHeight": 0
   },
   "outputs": [],
   "source": "titanic = pd.get_dummies(titanic, drop_first=True)\n\n# Convert all boolean columns to integers\ntitanic = titanic.apply(lambda x: x.astype(int) if x.dtype == 'bool' else x)\n\ntitanic.dtypes",
   "execution_count": null
  },
  {
   "cell_type": "code",
   "id": "fab08374-e406-4a7c-9912-9a92567f5c74",
   "metadata": {
    "language": "python",
    "name": "x_y",
    "collapsed": false,
    "resultHeight": 0
   },
   "outputs": [],
   "source": "x = titanic.drop('SURVIVED',axis=1)\ny = titanic.SURVIVED",
   "execution_count": null
  },
  {
   "cell_type": "code",
   "id": "96a8ccdf-943d-4530-9458-f68f93b96dd6",
   "metadata": {
    "language": "python",
    "name": "split_test_train",
    "collapsed": false,
    "resultHeight": 0
   },
   "outputs": [],
   "source": "xtrain,xtest,ytrain,ytest = train_test_split(x,y,train_size=.70,random_state=1234)",
   "execution_count": null
  },
  {
   "cell_type": "code",
   "id": "544a1c2f-3a07-46e5-a3ee-f72c792fe7ea",
   "metadata": {
    "language": "python",
    "name": "param_grid_def",
    "collapsed": false,
    "resultHeight": 0
   },
   "outputs": [],
   "source": "param_grid = {\n    \"n_estimators\": [100, 200],\n    \"learning_rate\": [0.1, 0.5],\n    \"max_depth\": [1,2,3,4,5,6],\n    \"min_child_weight\": [1, 6]\n}",
   "execution_count": null
  },
  {
   "cell_type": "code",
   "id": "84958eaf-df33-48ba-baa9-14659c493135",
   "metadata": {
    "language": "python",
    "name": "train_model",
    "collapsed": false,
    "resultHeight": 0
   },
   "outputs": [],
   "source": "model = XGBClassifier(objective='binary:logistic', \n                      eval_metric='logloss')\n\ngrid_search = GridSearchCV(estimator=model, \n                           param_grid=param_grid)\n\ngrid_search.fit(xtrain, ytrain)",
   "execution_count": null
  },
  {
   "cell_type": "code",
   "id": "9597a1b5-fa80-482b-9279-96dc72020697",
   "metadata": {
    "language": "python",
    "name": "get_best_params",
    "collapsed": false,
    "resultHeight": 0
   },
   "outputs": [],
   "source": "# Best parameters and score\nbest_params = grid_search.best_params_\nbest_score = grid_search.best_score_\nprint(\"Best Parameters:\", best_params)\nprint(\"Best Score:\", best_score)\n\n# Evaluate the best model on the test set\nbest_model = grid_search.best_estimator_\ntest_score = best_model.score(xtest, ytest)\nprint(\"Test Score:\", test_score)",
   "execution_count": null
  },
  {
   "cell_type": "code",
   "id": "f0e53e21-e9d6-453d-8149-448270476258",
   "metadata": {
    "language": "python",
    "name": "show_metrics",
    "collapsed": false,
    "resultHeight": 0
   },
   "outputs": [],
   "source": "metrics = {\n    \"Accuracy\": best_score,\n    \"Params\": best_params\n}\n\nmetrics",
   "execution_count": null
  },
  {
   "cell_type": "code",
   "id": "b263614f-9d84-463f-a37d-f4b787889ec4",
   "metadata": {
    "language": "python",
    "name": "register_model",
    "collapsed": false,
    "resultHeight": 0
   },
   "outputs": [],
   "source": "from snowflake.ml.registry import Registry\n\n# Get sample input data to pass into the registry logging function\nX = xtrain.sample(n=1)\n\n# Create a registry and log the model\n# You can specify a different DB and Schema if you'd like\n# otherwise it uses the session context\n# If a registry does not exist it will create one\nreg = Registry(session=session)\n\n# Define model name and version (use uppercase for name)\nmodel_name = \"TITANIC\"\n\ntitanic_model = reg.log_model(\n    model_name=model_name,\n    options = {\n    \"relax_version\": True,\n    },\n    target_platforms=[\"WAREHOUSE\"],\n    #version_name=\"V_1\", # If you leave version_name off SF creates one\n    model=best_model,\n    sample_input_data=X,\n    metrics=metrics,\n)",
   "execution_count": null
  },
  {
   "cell_type": "code",
   "id": "18c5b6b9-9b81-4671-b3a2-4d23d437023e",
   "metadata": {
    "language": "python",
    "name": "show_models",
    "collapsed": false,
    "resultHeight": 0
   },
   "outputs": [],
   "source": "models_df = reg.show_models()\nmodels_df[models_df['name'] == model_name]",
   "execution_count": null
  },
  {
   "cell_type": "code",
   "id": "5538ef69-e58c-4c1d-8af0-3c99c0e9f14e",
   "metadata": {
    "language": "python",
    "name": "show_model_versions",
    "collapsed": false,
    "resultHeight": 0
   },
   "outputs": [],
   "source": "models = reg.get_model(model_name).show_versions()\nmodels.sort_values(by='created_on', ascending=False)",
   "execution_count": null
  },
  {
   "cell_type": "code",
   "id": "974ebd8f-407a-4aa1-9cf7-5ac161e8fbd1",
   "metadata": {
    "language": "python",
    "name": "Show_Recent_Model"
   },
   "outputs": [],
   "source": "recent_model = reg.get_model(model_name).last()\nrecent_model",
   "execution_count": null
  },
  {
   "cell_type": "code",
   "id": "774fde38-6f47-4919-8eca-19619f1a8818",
   "metadata": {
    "language": "python",
    "name": "promote_model",
    "collapsed": false,
    "resultHeight": 0
   },
   "outputs": [],
   "source": "m = reg.get_model(model_name).last()\nm.default = m\nmv = m.default\nmv.version_name",
   "execution_count": null
  },
  {
   "cell_type": "code",
   "id": "51a69210-dc84-4d01-b079-dd726b288c31",
   "metadata": {
    "language": "python",
    "name": "predict_remotely",
    "collapsed": false,
    "resultHeight": 0
   },
   "outputs": [],
   "source": "remote_prediction = mv.run(xtest, function_name=\"PREDICT_PROBA\")\nremote_prediction.head()",
   "execution_count": null
  },
  {
   "cell_type": "code",
   "id": "75c919f2-8069-4dcf-9cff-999f9815602f",
   "metadata": {
    "language": "python",
    "name": "write_test_to_SF",
    "collapsed": false,
    "resultHeight": 0
   },
   "outputs": [],
   "source": "test_sf = session.create_dataframe(xtest.reset_index(drop=True))\ntest_sf.write.mode(\"overwrite\").save_as_table(\"titanic_predict\")\nsession.table('titanic_predict').show()",
   "execution_count": null
  },
  {
   "cell_type": "code",
   "id": "beb2ed35-07bb-4ba3-b209-32a25fb01e72",
   "metadata": {
    "language": "sql",
    "name": "predict_with_sql",
    "collapsed": false,
    "resultHeight": 0
   },
   "outputs": [],
   "source": "select *, round(TITANIC!predict_proba(*):output_feature_0,2)\nas surv_pred\nfrom titanic_predict",
   "execution_count": null
  },
  {
   "cell_type": "markdown",
   "id": "eae35b82-a01b-458b-a91d-62aeefbe54e5",
   "metadata": {
    "name": "Dyn_table_instructions",
    "collapsed": false
   },
   "source": "### Deployment Example: Dynamic Table with Model Predictions\n\nThis example demonstrates how to use a dynamic table to apply your model to newly inserted data.\n\n- **Step 1:** Create a dynamic table that uses your model to predict current data.\n- **Step 2:** Insert new data into the source table.\n- **Step 3:** Navigate to the dynamic table UI and observe the model running on the new data (typically within 1 minute).\n- **Step 4:** Once the demo is complete, drop the dynamic table to clean up."
  },
  {
   "cell_type": "code",
   "id": "fe2b885f-7e8d-465b-92aa-55ce17f13ba2",
   "metadata": {
    "language": "python",
    "name": "get_warehouse_dnmc_tbl"
   },
   "outputs": [],
   "source": "current_wh = session.get_current_warehouse()\ncurrent_wh",
   "execution_count": null
  },
  {
   "cell_type": "code",
   "id": "75be2d75-b37c-493b-b46d-284d3516fcda",
   "metadata": {
    "language": "sql",
    "name": "Create_Dynamic_Table"
   },
   "outputs": [],
   "source": "create or replace dynamic table titanic_batch_inference\ntarget_lag = '1 minute' \nwarehouse = {{current_wh}} as\nselect *, round(TITANIC!predict_proba(*):output_feature_0,2)\nas surv_pred\nfrom titanic_predict;\n\nselect * from titanic_batch_inference;",
   "execution_count": null
  },
  {
   "cell_type": "code",
   "id": "b199b67a-d84a-4d01-ba0d-1e693d1418da",
   "metadata": {
    "language": "sql",
    "name": "Insert_data"
   },
   "outputs": [],
   "source": "INSERT INTO test_pd (\n    SIBSP, PARCH, FARE, CLASS_SECOND, CLASS_THIRD,\n    WHO_MAN, WHO_WOMAN,\n    EMBARK_TOWN_QUEENSTOWN, EMBARK_TOWN_SOUTHAMPTON\n) VALUES\n(0, 0, 10.5, 0, 1, 1, 0, 1, 0),\n(2, 1, 23.0, 1, 0, 0, 1, 0, 1),\n(0, 2, 15.75, 1, 0, 0, 1, 1, 0),\n(1, 1, 7.925, 0, 1, 1, 0, 0, 1),\n(0, 0, 7.75, 0, 1, 1, 0, 0, 1),\n(3, 2, 21.6792, 1, 0, 1, 0, 0, 1),\n(0, 0, 8.05, 0, 1, 1, 0, 1, 0),\n(0, 0, 8.6625, 0, 1, 0, 1, 1, 0),\n(1, 0, 26.0, 1, 0, 1, 0, 0, 1),\n(0, 1, 19.2583, 1, 0, 0, 1, 0, 1),\n(1, 1, 69.3, 0, 0, 1, 0, 0, 1),\n(0, 0, 7.2292, 0, 1, 1, 0, 1, 0),\n(0, 0, 13.0, 0, 1, 1, 0, 0, 1),\n(0, 0, 9.8375, 0, 1, 1, 0, 1, 0),\n(1, 0, 55.0, 0, 0, 1, 0, 0, 0),\n(2, 0, 27.7208, 1, 0, 0, 1, 0, 1),\n(0, 0, 6.975, 0, 1, 1, 0, 1, 0),\n(0, 0, 8.3, 0, 1, 1, 0, 0, 1),\n(1, 1, 46.9, 1, 0, 1, 0, 0, 0),\n(0, 2, 16.7, 0, 1, 0, 1, 0, 1);",
   "execution_count": null
  },
  {
   "cell_type": "code",
   "id": "0015cf7c-9013-403a-aaac-ecc62af1c349",
   "metadata": {
    "language": "sql",
    "name": "drop_dynamic_table"
   },
   "outputs": [],
   "source": "drop dynamic table titanic_batch_inference;",
   "execution_count": null
  }
 ]
}