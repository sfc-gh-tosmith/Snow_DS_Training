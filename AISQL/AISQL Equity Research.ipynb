{
 "cells": [
  {
   "cell_type": "markdown",
   "id": "45f2a01c-8ad9-488f-8cc9-fe61b502982d",
   "metadata": {
    "collapsed": false,
    "name": "AI_SQL_HEADER_OVERVIEW"
   },
   "source": [
    "# AI SQL\n",
    "AISQL delivers an easy-to-use composable query language that handles both text and multimodal data through familiar SQL syntax. Our high-performance batch engine processes queries faster through intelligent query optimization, while delivering lower costs than traditional AI solutions. Natively ingest structured and unstructured data into unified multimodal tables, enabling comprehensive insights through familiar SQL analytics for all your data.\n",
    "\n",
    "## AI SQL Benefits:\n",
    "### 1) Easy-to-use SQL syntax to build AI pipelines without complex coding\n",
    "### 2) High-performance processing across all modalities (text, image, audio)\n",
    "### 3) Lower cost batch processing through optimized architecture to support faster and larger batch jobs.\n",
    "\n",
    "\n",
    "## Three Major function calls\n",
    "### AI_FILTER\n",
    "    AI-powered SQL operator for semantic filtering. You can use the same syntax on a single table (for filtering) or join multiple tables together upon a semantic relationship. \n",
    "\n",
    "### AI_AGG/AI_SUMMARIZE_AGG\n",
    "    Advanced functionalities provide unmatched comprehensive analysis across multiple data entries with a user prompt. This method overcomes contextual window constraints, facilitating extensive multi-record examination with no comparable solutions in the market.\n",
    "\n",
    "### AI_CLASSIFY\n",
    "    Functions for easy classification across multi-modal data"
   ]
  },
  {
   "cell_type": "markdown",
   "id": "8d50cbf4-0c8d-4950-86cb-114990437ac9",
   "metadata": {
    "collapsed": false,
    "name": "Overview"
   },
   "source": [
    "## AI-SQL Functions For Equity Research\n",
    "\n",
    "Snowflake's AI powered functions enable column level operations with LLM like traditional database operators. \n",
    "\n",
    "With this lab we will do the Following:\n",
    "\n",
    "1. Parse document into text from pdf using [PARSE_DOCUMENT](https://docs.snowflake.com/en/sql-reference/functions/parse_document-snowflake-cortex)\n",
    "2. Extract entities using snowflake [structured output](https://docs.snowflake.com/en/user-guide/snowflake-cortex/complete-structured-outputs)\n",
    "3. Using Top-K join and AI Join to map entities to S&P 500 tickers ([AI_FILTER (PrPr)](https://docs.snowflake.com/LIMITEDACCESS/snowflake-cortex/ai_filter-snowflake-cortex))\n",
    "4. Summarize research insights (using [AI_AGG  (PrPr)](https://docs.snowflake.com/LIMITEDACCESS/snowflake-cortex/ai_agg)) across multiple articles upon given ticker\n",
    "\n",
    "The information in this lab uses 7 PDF documents with equity research information in various forms.  Inside each of the PDFs is bulleted data, table data, as well as text data.  We will use the Parse_Document function to get this information into a table so that we can feed it into Cortex.  We then extract the entities that are mentioned in those PDF documents into a table.  Then we join them to a stock ticker using a marketplace listing of common stock ticker and company names.  We will do this join using AI_FILTER so we can match and clean up what the original Top K join gave us but with the logic of LLMs.  Then we will summarize the findings on one of the stocks using AI_AGG \n"
   ]
  },
  {
   "cell_type": "markdown",
   "id": "450351bf",
   "metadata": {},
   "source": [
    "Download the article PDFs from the repo's `data/EquityDOCS` folder. Then upload to a stage called `@equitydocs`"
   ]
  },
  {
   "cell_type": "markdown",
   "id": "ac98f83d-16ab-4755-8142-087226e28128",
   "metadata": {
    "collapsed": false,
    "name": "ParseDocument_Header"
   },
   "source": [
    "First Lets Parse research doc into text using [PARSE_DOCUMENT](https://docs.snowflake.com/en/sql-reference/functions/parse_document-snowflake-cortex) function from the stage containing the pdfs."
   ]
  },
  {
   "cell_type": "code",
   "execution_count": null,
   "id": "c695373e-ac74-4b62-a1f1-08206cbd5c81",
   "metadata": {
    "codeCollapsed": false,
    "language": "sql",
    "name": "ParseDocument_SQL"
   },
   "outputs": [],
   "source": [
    "-- Uploaded pdfs into stage @equitydocs\n",
    "-- (note: please create stage as client side encryption)\n",
    "use role sysadmin;\n",
    "\n",
    "CREATE OR REPLACE TABLE raw_docs_text AS SELECT\n",
    "    relative_path, \n",
    "    GET_PRESIGNED_URL(@equitydocs, relative_path) as scoped_file_url, \n",
    "TO_VARIANT(SNOWFLAKE.CORTEX.PARSE_DOCUMENT(@equitydocs, relative_path , {'mode': 'layout'})) as raw_text_dict,\n",
    "    raw_text_dict:content as raw_text\n",
    "FROM DIRECTORY(@equitydocs);\n"
   ]
  },
  {
   "cell_type": "markdown",
   "id": "4e486b3b-23d8-42a9-b369-338cf245e2f0",
   "metadata": {
    "collapsed": false,
    "name": "ParseDocument_Review_Header"
   },
   "source": [
    "Lets Review what that parseing did.  We can see that it was able to pull the information from the PDF and put it into a table for us as well as retain some of the information in bullet form and read from the charts as well"
   ]
  },
  {
   "cell_type": "code",
   "execution_count": null,
   "id": "df410cc5-f72d-4dc7-8c7f-a0c3d933f4ee",
   "metadata": {
    "language": "sql",
    "name": "ParseDocument_Review"
   },
   "outputs": [],
   "source": [
    "select * from raw_docs_text;"
   ]
  },
  {
   "cell_type": "markdown",
   "id": "8e8eaf32-c9d8-4c6e-8750-30d2658a5ead",
   "metadata": {
    "collapsed": false,
    "name": "StructuredOutput_Header"
   },
   "source": [
    "Now we can extract the company and a sentiment from the document using [STRUCTURED OUTPUT](https://docs.snowflake.com/en/user-guide/snowflake-cortex/complete-structured-outputs) reading from the documents we just parsed above.  "
   ]
  },
  {
   "cell_type": "code",
   "execution_count": null,
   "id": "8dc63d22-9adb-4c00-bad1-e8b8524f2bae",
   "metadata": {
    "language": "sql",
    "name": "StructuredOutput_SQL"
   },
   "outputs": [],
   "source": [
    "CREATE OR REPLACE TABLE ENTITY_EXTRACTION_EXAMPLE as \n",
    "select *,\n",
    "    AI_COMPLETE(\n",
    "        model => 'openai-gpt-5-mini',\n",
    "        prompt => 'You are tasked with extracting companies from a research article. Extract \"company\" for each company that is identified and the \"sentiment\" which includes a sentiment of how the company was referenced.:\\n\\n' || RAW_TEXT,\n",
    "        response_format => {\n",
    "            'type':'json',\n",
    "            'schema':{\n",
    "                'type' : 'object',\n",
    "                'properties': {\n",
    "                    'company_sentiment': {\n",
    "                        'type': 'array',\n",
    "                        'items': {\n",
    "                            'type': 'object',\n",
    "                            'properties': {\n",
    "                                'company': {'type': 'string'},\n",
    "                                'sentiment': {'type': 'string'}\n",
    "                            },\n",
    "                            'required':['company','sentiment'],\n",
    "                            'additionalProperties':false\n",
    "                        }\n",
    "                    }\n",
    "                },\n",
    "                'required':['company_sentiment'],\n",
    "                'additionalProperties':false\n",
    "            }\n",
    "        }\n",
    "    ) as extraction,\n",
    "    extraction:company_sentiment::array as list_company_sentiment,\n",
    "    AI_COMPLETE(\n",
    "        model => 'openai-gpt-5-mini',\n",
    "        prompt => PROMPT('Summarize this article into a few sentences {0}', RAW_TEXT)) as summary\n",
    "    from raw_docs_text\n",
    "    limit 3\n",
    "    --QUALIFY ROW_NUMBER() OVER (ORDER BY raw_text) = 3;\n",
    "\n",
    "-- Extracts companies and their sentiment from article. Takes 1m 6s for one article (gpt5). \n",
    "-- For all 7 it takes 6m 2s (gpt5), 56s (gpt5-mini), 46s (gpt5-nano)"
   ]
  },
  {
   "cell_type": "markdown",
   "id": "8d0505dc-b5cf-49d5-be8a-5a6ee9c6a635",
   "metadata": {
    "collapsed": false,
    "name": "StructuredOutput_Review_Header"
   },
   "source": [
    "Here we can see in the array object returned what the sentiment of each company is.  Looking at the extraction JSON return object we can see the values from the above statement. Double click on a row in the extraction column to see the full values"
   ]
  },
  {
   "cell_type": "code",
   "execution_count": null,
   "id": "9ba7738b-aded-4a36-8cde-2cd5519c9587",
   "metadata": {
    "language": "sql",
    "name": "StructuredOutput_Review"
   },
   "outputs": [],
   "source": [
    "select * from  ENTITY_EXTRACTION_EXAMPLE ;"
   ]
  },
  {
   "cell_type": "markdown",
   "id": "5dd08ba3-0e7d-461e-a317-c78c98c788e2",
   "metadata": {
    "collapsed": false,
    "name": "TickerList_Header"
   },
   "source": [
    "Lets use our marketplace listing we brought in during our setup to get a list of common tickers.  If you forgot to do this step please refer to the setup documentation for the lab"
   ]
  },
  {
   "cell_type": "code",
   "execution_count": null,
   "id": "44ac10d6-7061-4902-bd02-daa843767ed9",
   "metadata": {
    "language": "sql",
    "name": "TickerList_SQL"
   },
   "outputs": [],
   "source": [
    "CREATE OR REPLACE TABLE TICKERS_LIST as select distinct(company_name), ticker\n",
    "FROM S__P_500_BY_DOMAIN_AND_AGGREGATED_BY_TICKERS_SAMPLE.DATAFEEDS.SP_500\n",
    "group by 1,2;"
   ]
  },
  {
   "cell_type": "markdown",
   "id": "2c3417d9-8cc8-444f-abcd-3c61c86ee6c9",
   "metadata": {
    "collapsed": false,
    "name": "AISQL_AIFilter_Header"
   },
   "source": [
    "First we will need to flatten out this JSON object so we can have a value for each company in its own row.  This will make the joins easier "
   ]
  },
  {
   "cell_type": "code",
   "execution_count": null,
   "id": "e233e011-a6b3-47ce-9475-600a87a1f8cd",
   "metadata": {
    "language": "sql",
    "name": "Prep_Flatten"
   },
   "outputs": [],
   "source": [
    "create or replace view flattened_extraction as \n",
    "SELECT \n",
    "    relative_path as file_name,\n",
    "    RAW_TEXT,\n",
    "    summary,\n",
    "    flattened.value:company::STRING AS Company,\n",
    "    flattened.value:sentiment::STRING AS Sentiment,\n",
    "    list_company_sentiment \n",
    "FROM \n",
    "    entity_extraction_example,\n",
    "    LATERAL FLATTEN(INPUT => list_company_sentiment) AS flattened;"
   ]
  },
  {
   "cell_type": "code",
   "execution_count": null,
   "id": "a8e26305-fc6e-4f38-afee-3a14e38e8fda",
   "metadata": {
    "language": "sql",
    "name": "Flatten_Review"
   },
   "outputs": [],
   "source": [
    "select * from flattened_extraction;"
   ]
  },
  {
   "cell_type": "markdown",
   "id": "5902dc66-31d3-40a3-81cc-57210760bb3c",
   "metadata": {
    "collapsed": false,
    "name": "TOP_K_JOINS_Header"
   },
   "source": [
    "Lets join this flattened table to our tickers list using Top K logic and see our results"
   ]
  },
  {
   "cell_type": "code",
   "execution_count": null,
   "id": "568da2de-b0fe-4a2b-a5d0-c672abf20216",
   "metadata": {
    "language": "sql",
    "name": "TOP_K_JOIN_SQL"
   },
   "outputs": [],
   "source": [
    "create or replace table top_candidates as \n",
    "SELECT c.*, \n",
    "    d.*, \n",
    "    AI_SIMILARITY(c.company, d.company_name)as sim_score\n",
    "FROM  flattened_extraction c\n",
    "CROSS JOIN TICKERS_LIST d\n",
    "QUALIFY row_number() OVER (PARTITION BY company, file_name\n",
    "                         ORDER BY sim_score DESC) <= 5;"
   ]
  },
  {
   "cell_type": "markdown",
   "id": "a3b189e9-1e61-4efb-8ef0-d9b54e09b4b3",
   "metadata": {
    "collapsed": false,
    "name": "TOP_K_JOIN_Result_Header"
   },
   "source": [
    "Looking at our results we can see it did its best to join the ticker to our company name.  But we can easily see this logic is flawed as it joins some companies together that do not make any sense."
   ]
  },
  {
   "cell_type": "code",
   "execution_count": null,
   "id": "bac41a2a-ab82-497a-970d-7fd351f21718",
   "metadata": {
    "language": "sql",
    "name": "TOP_K_JOIN_RESULT"
   },
   "outputs": [],
   "source": [
    "select \n",
    "    company as extracted, \n",
    "    company_name as mapped_company,\n",
    "    sim_score,\n",
    "    ticker as mapped_ticker \n",
    "from top_candidates;"
   ]
  },
  {
   "cell_type": "markdown",
   "id": "3a9d3578-81ee-4072-ad39-29e37eed67f7",
   "metadata": {
    "collapsed": false,
    "name": "AI_FILTER_SQL_Header"
   },
   "source": [
    "Lets add some AI Logic to make this match better and clean up our results.  We will use  [AI_FILTER (PuPr)](https://docs.snowflake.com/en/sql-reference/functions/ai_filter) for the most accurate results.\n",
    "\n",
    "A hint for the syntax here is AI_FILTER(concat('text', columnname, ' text', columnname,' text ', columnname))"
   ]
  },
  {
   "cell_type": "code",
   "execution_count": null,
   "id": "88f05bdb-a873-4907-b79f-362b4e355514",
   "metadata": {
    "language": "sql",
    "name": "AI_FILTER_SQL"
   },
   "outputs": [],
   "source": [
    "//ENTITY DISAMBIGUATION - USING AI FILTER TO JOIN SUMMARY/EXTRACTION FROM ARTICLE TO S&P 500 Companies\n",
    "\n",
    "create or replace table matched_candidates as \n",
    "SELECT \n",
    "    file_name, \n",
    "    raw_text, \n",
    "    summary, \n",
    "    company as extracted, \n",
    "    company_name as mapped_company, \n",
    "    ticker as mapped_ticker, \n",
    "FROM top_candidates\n",
    "WHERE 1=1\n",
    "and raw_text is not null \n",
    "and company_name is not null \n",
    "and summary is not null \n",
    "and AI_FILTER(PROMPT('Are all of these three referring to the same company?\\nSummary:{0}, Company name:{1}, Another Company Name:{2}', summary, company_name, company))\n",
    "ORDER BY FILE_NAME;\n",
    "\n",
    "select * from matched_candidates;"
   ]
  },
  {
   "cell_type": "markdown",
   "id": "150b474b-cd3b-467f-8e7b-2b20939b734b",
   "metadata": {
    "collapsed": false,
    "name": "AI_AGG_Header"
   },
   "source": [
    "Lets use another new AISQL function and aggregate insights across multiple documents on specific Ticker using [AI_AGG (PrPr)](https://docs.snowflake.com/LIMITEDACCESS/snowflake-cortex/ai_agg)"
   ]
  },
  {
   "cell_type": "code",
   "execution_count": null,
   "id": "8d1519f5-20d4-4894-b025-99de621d53d0",
   "metadata": {
    "language": "sql",
    "name": "AI_AGG_SQL"
   },
   "outputs": [],
   "source": [
    "create or replace table AIAGG_RESULTS as (\n",
    "select \n",
    "    mapped_ticker,\n",
    "    count(*) as count_research,\n",
    "    AI_AGG(raw_text,'Please help me summarize in bullet points any discussions relevant to Goldman Sachs') as Aggregate_finding\n",
    "    --use AI_AGG function to run with the prompt of you are provided a couple research articles to the company; please help me summarize in bullet points on discussions relevant to the company as your aggregated_summary column.  You will use the raw_text column for this\n",
    "from matched_candidates\n",
    "where mapped_ticker = 'GS'\n",
    "group by mapped_ticker);\n",
    "\n",
    "Select * from aiagg_results;\n"
   ]
  }
 ],
 "metadata": {
  "kernelspec": {
   "display_name": "Streamlit Notebook",
   "name": "streamlit"
  },
  "lastEditStatus": {
   "authorEmail": "tom.smith@snowflake.com",
   "authorId": "3695467180546",
   "authorName": "TOSMITH",
   "lastEditTime": 1754689317518,
   "notebookId": "5ktozzlojiamkddavigk",
   "sessionId": "ef4471fa-235f-4cb2-863e-9c6df99d6f51"
  }
 },
 "nbformat": 4,
 "nbformat_minor": 5
}
